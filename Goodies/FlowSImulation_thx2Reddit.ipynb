{
  "nbformat": 4,
  "nbformat_minor": 0,
  "metadata": {
    "colab": {
      "name": "FlowSImulation_thx2Reddit.ipynb",
      "provenance": [],
      "authorship_tag": "ABX9TyP8Yu1NnQjBW76/gLDC67ip",
      "include_colab_link": true
    },
    "kernelspec": {
      "name": "python3",
      "display_name": "Python 3"
    },
    "language_info": {
      "name": "python"
    }
  },
  "cells": [
    {
      "cell_type": "markdown",
      "metadata": {
        "id": "view-in-github",
        "colab_type": "text"
      },
      "source": [
        "<a href=\"https://colab.research.google.com/github/Sitraka17/Learning-Data-Science/blob/main/FlowSImulation_thx2Reddit.ipynb\" target=\"_parent\"><img src=\"https://colab.research.google.com/assets/colab-badge.svg\" alt=\"Open In Colab\"/></a>"
      ]
    },
    {
      "cell_type": "markdown",
      "metadata": {
        "id": "2fkcKJ0GCC5H"
      },
      "source": [
        "Testing this nice flow simulation https://www.reddit.com/r/dataisbeautiful/comments/oyhwtw/oc_solution_for_the_flow_of_an_inviscid_and/ "
      ]
    },
    {
      "cell_type": "code",
      "metadata": {
        "id": "05uE_BX4BcEb"
      },
      "source": [
        "import bpy\n",
        "import math\n",
        "import random\n",
        "\n",
        "#This is to get the current “scene” where all the cubes are.\n",
        "context = bpy.context\n",
        "scene = context.scene\n",
        "\n",
        "#In the scene I have a collection with 1000 cubes inside,\n",
        "#this gets you a list of them, each cube is an object that has a x,y,\n",
        "#and z property, like this: cube.location.x=123.\n",
        "myColObj=bpy.data.collections['myCol'].all_objects\n",
        "\n",
        "#This is to maybe speed up things a little but its not necessary.\n",
        "locA=[]\n",
        "xA=[]\n",
        "yA=[]\n",
        "for obj in myColObj:\n",
        "    locA.append(obj.location)\n",
        "    xA.append(obj.location.x)\n",
        "    yA.append(obj.location.y)\n",
        "\n",
        "#Initial velocity.\n",
        "v0=25\n",
        "\n",
        "#Radius of cylinder.\n",
        "R=1\n",
        "\n",
        "#Time step.\n",
        "dt=0.001\n",
        "\n",
        "#This calculates the intensity of the dipole λ,\n",
        "#to keep the radius constant.\n",
        "l=R*R*v0\n",
        "\n",
        "#This function will run once each time the frame changes.\n",
        "def myFrameChange(scene,depsgraph):\n",
        "\n",
        "#This part makes the initial velocity equal to the\n",
        "#position of an object I have in the scene,\n",
        "#that way I can easily animate changes in velocity\n",
        "#by moving the object around, this part is optional.\n",
        "    ob_eval = myEmpty.evaluated_get(depsgraph)\n",
        "    v0=ob_eval.location.y10\n",
        "    l=R*R*v0\n",
        "\n",
        "#This loops through all the 1000 cubes and changes its positions.\n",
        "    i=-1\n",
        "    for obj in myColObj:\n",
        "        i=i+1\n",
        "        loc=obj.location\n",
        "        x=xA[i]\n",
        "        y=yA[i]\n",
        "\n",
        "#The formula it's in polar coordinates so I transform the\n",
        "#position to polar, I change it, and later I transform it to\n",
        "#cartesian coordinates again.\n",
        "        r=math.sqrt((x*x)+(y*y))\n",
        "        a=math.atan2(y,x)\n",
        "\n",
        "#This is the formula for the potential flow around a cylinder.\n",
        "        vr=(v0*r-(l/r)math.cos(a)\n",
        "        va=-(v0+(l/(r*r)))*math.sin(a)\n",
        "\n",
        "        rf=r+(vr*dt)\n",
        "        af=a+(va*dt)\n",
        "\n",
        "        xf=rf*math.cos(af)\n",
        "#If the position is outside of the camera frame I move the cubes to\n",
        "#a random position on the other side so they can keep flowing in\n",
        "#front of the camera.\n",
        "        if xf>10:\n",
        "            loc.x=random.uniform(-20,-10)\n",
        "            loc.y=random.uniform(-6,6)\n",
        "            loc.z=random.uniform(-2,2)\n",
        "        else:\n",
        "            loc.x=xf\n",
        "            loc.y=rf*math.sin(af)\n",
        "        \n",
        "        xA[i]=loc.x\n",
        "        yA[i]=loc.y\n",
        "\n",
        "#Blender has some bug and the program crashes occasionally\n",
        "#during rendering if the simulation is on,\n",
        "#so this is to save the positions of the cubes each frame,\n",
        "#then I render from memory, with the simulation not running\n",
        "#to avoid the crash.\n",
        "        obj.keyframe_insert(data_path=\"location\",frame=scene.frame_current)\n",
        "\n",
        "#This is to add the my frame function to a list of\n",
        "#functions that will run each frame change.\n",
        "bpy.app.handlers.frame_change_post.append(myFrameChange)"
      ],
      "execution_count": null,
      "outputs": []
    }
  ]
}
