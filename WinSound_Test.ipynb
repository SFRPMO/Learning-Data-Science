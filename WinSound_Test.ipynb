{
  "nbformat": 4,
  "nbformat_minor": 0,
  "metadata": {
    "colab": {
      "name": "WinSound_Test.ipynb",
      "provenance": [],
      "authorship_tag": "ABX9TyPPlv1pxzfJZ+4/e5+UkgyW",
      "include_colab_link": true
    },
    "kernelspec": {
      "name": "python3",
      "display_name": "Python 3"
    },
    "language_info": {
      "name": "python"
    }
  },
  "cells": [
    {
      "cell_type": "markdown",
      "metadata": {
        "id": "view-in-github",
        "colab_type": "text"
      },
      "source": [
        "<a href=\"https://colab.research.google.com/github/Sitraka17/Learning-Data-Science/blob/main/WinSound_Test.ipynb\" target=\"_parent\"><img src=\"https://colab.research.google.com/assets/colab-badge.svg\" alt=\"Open In Colab\"/></a>"
      ]
    },
    {
      "cell_type": "code",
      "metadata": {
        "id": "V5WuPVxMPoi-"
      },
      "source": [
        "import winsound \n",
        "# Wow ! You can make sound with Python thanks to this package! https://docs.python.org/3/library/winsound.html "
      ],
      "execution_count": null,
      "outputs": []
    },
    {
      "cell_type": "code",
      "metadata": {
        "id": "bRyOKPb1P-cA"
      },
      "source": [
        "f=3799\n",
        "d=5000\n",
        "winsound.Beep(f,d)"
      ],
      "execution_count": null,
      "outputs": []
    }
  ]
}